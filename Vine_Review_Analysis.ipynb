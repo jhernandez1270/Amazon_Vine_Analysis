{
  "nbformat": 4,
  "nbformat_minor": 0,
  "metadata": {
    "colab": {
      "name": "Vine_Review_Analysis.ipynb",
      "provenance": [],
      "collapsed_sections": []
    },
    "kernelspec": {
      "name": "python3",
      "display_name": "Python 3"
    },
    "language_info": {
      "name": "python"
    }
  },
  "cells": [
    {
      "cell_type": "code",
      "execution_count": 1,
      "metadata": {
        "colab": {
          "base_uri": "https://localhost:8080/"
        },
        "id": "MzlcEUvabxpg",
        "outputId": "f83c22b8-0e9f-4a69-cfd2-8fa2b7e4a22d"
      },
      "outputs": [
        {
          "output_type": "stream",
          "name": "stdout",
          "text": [
            "\r0% [Working]\r            \rGet:1 https://developer.download.nvidia.com/compute/cuda/repos/ubuntu1804/x86_64  InRelease [1,581 B]\n",
            "Get:2 https://cloud.r-project.org/bin/linux/ubuntu bionic-cran40/ InRelease [3,626 B]\n",
            "Hit:3 http://archive.ubuntu.com/ubuntu bionic InRelease\n",
            "Ign:4 https://developer.download.nvidia.com/compute/machine-learning/repos/ubuntu1804/x86_64  InRelease\n",
            "Hit:5 https://developer.download.nvidia.com/compute/machine-learning/repos/ubuntu1804/x86_64  Release\n",
            "Get:6 http://archive.ubuntu.com/ubuntu bionic-updates InRelease [88.7 kB]\n",
            "Get:7 http://security.ubuntu.com/ubuntu bionic-security InRelease [88.7 kB]\n",
            "Get:8 https://developer.download.nvidia.com/compute/cuda/repos/ubuntu1804/x86_64  Packages [824 kB]\n",
            "Get:9 http://ppa.launchpad.net/c2d4u.team/c2d4u4.0+/ubuntu bionic InRelease [15.9 kB]\n",
            "Get:10 http://archive.ubuntu.com/ubuntu bionic-backports InRelease [74.6 kB]\n",
            "Hit:11 http://ppa.launchpad.net/cran/libgit2/ubuntu bionic InRelease\n",
            "Get:12 https://cloud.r-project.org/bin/linux/ubuntu bionic-cran40/ Packages [85.6 kB]\n",
            "Get:13 http://ppa.launchpad.net/deadsnakes/ppa/ubuntu bionic InRelease [15.9 kB]\n",
            "Hit:15 http://ppa.launchpad.net/graphics-drivers/ppa/ubuntu bionic InRelease\n",
            "Get:16 http://archive.ubuntu.com/ubuntu bionic-updates/restricted amd64 Packages [1,107 kB]\n",
            "Get:17 http://archive.ubuntu.com/ubuntu bionic-updates/universe amd64 Packages [2,306 kB]\n",
            "Get:18 http://archive.ubuntu.com/ubuntu bionic-updates/main amd64 Packages [3,336 kB]\n",
            "Get:19 http://ppa.launchpad.net/c2d4u.team/c2d4u4.0+/ubuntu bionic/main Sources [2,075 kB]\n",
            "Get:20 http://ppa.launchpad.net/c2d4u.team/c2d4u4.0+/ubuntu bionic/main amd64 Packages [1,063 kB]\n",
            "Get:21 http://security.ubuntu.com/ubuntu bionic-security/main amd64 Packages [2,905 kB]\n",
            "Get:22 http://ppa.launchpad.net/deadsnakes/ppa/ubuntu bionic/main amd64 Packages [45.3 kB]\n",
            "Get:23 http://security.ubuntu.com/ubuntu bionic-security/universe amd64 Packages [1,527 kB]\n",
            "Get:24 http://security.ubuntu.com/ubuntu bionic-security/restricted amd64 Packages [1,065 kB]\n",
            "Fetched 16.6 MB in 13s (1,319 kB/s)\n",
            "Reading package lists... Done\n"
          ]
        }
      ],
      "source": [
        "import os\n",
        "# Find the latest version of spark 3.0 from http://www.apache.org/dist/spark/ and enter as the spark version\n",
        "# For example:\n",
        "# spark_version = 'spark-3.0.3'\n",
        "spark_version = 'spark-3.0.3'\n",
        "os.environ['SPARK_VERSION']=spark_version\n",
        "\n",
        "# Install Spark and Java\n",
        "!apt-get update\n",
        "!apt-get install openjdk-11-jdk-headless -qq > /dev/null\n",
        "!wget -q http://www.apache.org/dist/spark/$SPARK_VERSION/$SPARK_VERSION-bin-hadoop2.7.tgz\n",
        "!tar xf $SPARK_VERSION-bin-hadoop2.7.tgz\n",
        "!pip install -q findspark\n",
        "\n",
        "# Set Environment Variables\n",
        "import os\n",
        "os.environ[\"JAVA_HOME\"] = \"/usr/lib/jvm/java-11-openjdk-amd64\"\n",
        "os.environ[\"SPARK_HOME\"] = f\"/content/{spark_version}-bin-hadoop2.7\"\n",
        "\n",
        "# Start a SparkSession\n",
        "import findspark\n",
        "findspark.init()"
      ]
    },
    {
      "cell_type": "code",
      "source": [
        "# Download the Postgres driver that will allow Spark to interact with Postgres.\n",
        "!wget https://jdbc.postgresql.org/download/postgresql-42.2.16.jar"
      ],
      "metadata": {
        "colab": {
          "base_uri": "https://localhost:8080/"
        },
        "id": "SNLcH-k6cIlE",
        "outputId": "71b0bc54-5b28-46e5-8afb-18102c39009b"
      },
      "execution_count": 2,
      "outputs": [
        {
          "output_type": "stream",
          "name": "stdout",
          "text": [
            "--2022-07-28 21:02:31--  https://jdbc.postgresql.org/download/postgresql-42.2.16.jar\n",
            "Resolving jdbc.postgresql.org (jdbc.postgresql.org)... 72.32.157.228, 2001:4800:3e1:1::228\n",
            "Connecting to jdbc.postgresql.org (jdbc.postgresql.org)|72.32.157.228|:443... connected.\n",
            "HTTP request sent, awaiting response... 200 OK\n",
            "Length: 1002883 (979K) [application/java-archive]\n",
            "Saving to: ‘postgresql-42.2.16.jar’\n",
            "\n",
            "postgresql-42.2.16. 100%[===================>] 979.38K  --.-KB/s    in 0.09s   \n",
            "\n",
            "2022-07-28 21:02:31 (10.9 MB/s) - ‘postgresql-42.2.16.jar’ saved [1002883/1002883]\n",
            "\n"
          ]
        }
      ]
    },
    {
      "cell_type": "code",
      "source": [
        "from pyspark.sql import SparkSession\n",
        "spark = SparkSession.builder.appName(\"M16-Challenge-Deliverable2\").config(\"spark.driver.extraClassPath\",\"/content/postgresql-42.2.16.jar\").getOrCreate()"
      ],
      "metadata": {
        "id": "Y_LH0lCgcMkO"
      },
      "execution_count": 3,
      "outputs": []
    },
    {
      "cell_type": "code",
      "source": [
        "from pyspark import SparkFiles\n",
        "url = \"https://jessehernandez70mod16challenge.s3.us-west-1.amazonaws.com/amazon_reviews_us_Tools_v1_00.tsv\"\n",
        "spark.sparkContext.addFile(url)\n",
        "df = spark.read.option(\"encoding\", \"UTF-8\").csv(SparkFiles.get(\"amazon_reviews_us_Tools_v1_00.tsv\"), sep=\"\\t\", header=True, inferSchema=True)\n",
        "df.show()"
      ],
      "metadata": {
        "colab": {
          "base_uri": "https://localhost:8080/"
        },
        "id": "22DZjFM8cZB-",
        "outputId": "98d5b2dd-60e5-4019-b2ed-44090f106a9d"
      },
      "execution_count": 4,
      "outputs": [
        {
          "output_type": "stream",
          "name": "stdout",
          "text": [
            "+-----------+-----------+--------------+----------+--------------+--------------------+----------------+-----------+-------------+-----------+----+-----------------+--------------------+--------------------+-----------+\n",
            "|marketplace|customer_id|     review_id|product_id|product_parent|       product_title|product_category|star_rating|helpful_votes|total_votes|vine|verified_purchase|     review_headline|         review_body|review_date|\n",
            "+-----------+-----------+--------------+----------+--------------+--------------------+----------------+-----------+-------------+-----------+----+-----------------+--------------------+--------------------+-----------+\n",
            "|         US|   15785389|R2UM5QMHBHC90Q|B00H5U9ZD6|     115362950|WallPeg 12 sq ft ...|           Tools|          5|            0|          0|   N|                Y|Great organizer, ...|Very nice. Will o...| 2015-08-31|\n",
            "|         US|   47910848|  RF0D1LEIF6L7|B001TJGCS0|     570955425|Nite Ize Nite Daw...|           Tools|          4|            0|          0|   N|                Y|Like it, but the ...|Like it, but the ...| 2015-08-31|\n",
            "|         US|   36328996|  RM6YKIWQVNSY|B000NIK8JW|     128843593|Stanley 84-058 4 ...|           Tools|          1|            6|          6|   N|                Y|        poor quality|We were excited t...| 2015-08-31|\n",
            "|         US|   51785809|R1RL3L68ASPS36|B008ZYRGUA|     407828107|Powerextra 14.4V ...|           Tools|          4|            0|          0|   N|                Y|          Four Stars|Quick delivery. P...| 2015-08-31|\n",
            "|         US|   40757491|R1U4XFBFAG34CY|B00K5CA0GC|     490746675|Waterproof Invisi...|           Tools|          5|            0|          0|   N|                Y|          Five Stars|Quality waterproo...| 2015-08-31|\n",
            "|         US|   35544833|R3KFIK8P0I91PL|B00AIJAA94|     148352067|Crime Scene Do No...|           Tools|          5|            0|          0|   N|                Y|Excellent Decorat...|Ordered for my hu...| 2015-08-31|\n",
            "|         US|   16474909| RENOAY76PPK1O|B00JKEI6K8|     331801084|Aweek® 2 Pcs Bicy...|           Tools|          5|            0|          0|   N|                Y|          Five Stars|GREAT SELLER PROD...| 2015-08-31|\n",
            "|         US|   22601598| RINV884I0NL5V|B00AGCHVS6|     471514859|Ryobi P102 Genuin...|           Tools|          1|            0|          0|   N|                Y|Worked great for ...|My battery has di...| 2015-08-31|\n",
            "|         US|   16129808| R5KJH6CXZH2PX|B002S0O7U4|     162253576|Wiha 66995 6-Piec...|           Tools|          5|            0|          0|   N|                Y|       Great quality|Great product at ...| 2015-08-31|\n",
            "|         US|   24382335| RO69JF6QWD0W1|B0084YHXMW|      69530650|TOMTOP LED Submar...|           Tools|          5|            0|          0|   N|                Y|          Five Stars|           Excellent| 2015-08-31|\n",
            "|         US|   49796324|R3L9NQBH3FI55C|B00MLSS1SW|     916693555|Black & Decker BD...|           Tools|          4|            1|          1|   N|                Y|Really worked great!|This little sande...| 2015-08-31|\n",
            "|         US|   33289687| R4YH95YPHVU0C|B00D4WLS2A|      39333316|Crain 126 Staple ...|           Tools|          5|            0|          0|   N|                Y|         LOVE IT!!!!|This is the most ...| 2015-08-31|\n",
            "|         US|   10916386|R10M1WWDDQBGG2|B00JGCDV5Y|     550596607|Diamond Semi Roun...|           Tools|          2|            0|          0|   N|                Y|I needed to cut s...|I needed to cut s...| 2015-08-31|\n",
            "|         US|   34071500| RV3KWQBTNIO62|B00N0PS3YM|     735538025|It Mall 9 LED 375...|           Tools|          5|            1|          1|   N|                Y|   Works pretty well|Lights up small d...| 2015-08-31|\n",
            "|         US|   50594486|R1M7YUNLZI0G9F|B0000DD4KV|     506501960|IRWIN Tools Metri...|           Tools|          5|            1|          1|   N|                Y|          Five Stars|Great product for...| 2015-08-31|\n",
            "|         US|   21945887|R2MTL2D4E4HEF4|B0009H5FB8|     268586246|743022-A Backing ...|           Tools|          5|            0|          0|   N|                Y|          Five Stars|Many thanks for t...| 2015-08-31|\n",
            "|         US|   47749608| RXAHWIC1584UQ|B00NKSMPZW|     824618679|ClearArmor 141001...|           Tools|          5|           20|         23|   N|                Y|          Five Stars|geart product :) ...| 2015-08-31|\n",
            "|         US|   48880662| RMOIQFERVQDWS|B00RBAB92K|     156791442|KKmoon 9cm Mini A...|           Tools|          5|            0|          0|   N|                Y|          Five Stars|           very good| 2015-08-31|\n",
            "|         US|    4660265| R710G45MKODY9|B00QGBNZVI|     962324810|Refun E6 High Pow...|           Tools|          2|            1|          1|   N|                Y|           Two Stars|Scratches on lenses.| 2015-08-31|\n",
            "|         US|   18397238|R23ZIUGUM7TBMY|B00XXU3CDG|     543062309|Dr.meter S20 Mois...|           Tools|          1|            0|          1|   N|                Y|Don't waste your ...|It's a piece of $...| 2015-08-31|\n",
            "+-----------+-----------+--------------+----------+--------------+--------------------+----------------+-----------+-------------+-----------+----+-----------------+--------------------+--------------------+-----------+\n",
            "only showing top 20 rows\n",
            "\n"
          ]
        }
      ]
    },
    {
      "cell_type": "code",
      "source": [
        "dropna_df = df.dropna()\n",
        "dropna_df.show()"
      ],
      "metadata": {
        "colab": {
          "base_uri": "https://localhost:8080/"
        },
        "id": "xDvGW-0Ncf1v",
        "outputId": "8c7b28d6-7994-4e63-b4dd-0c6102a23f51"
      },
      "execution_count": 5,
      "outputs": [
        {
          "output_type": "stream",
          "name": "stdout",
          "text": [
            "+-----------+-----------+--------------+----------+--------------+--------------------+----------------+-----------+-------------+-----------+----+-----------------+--------------------+--------------------+-----------+\n",
            "|marketplace|customer_id|     review_id|product_id|product_parent|       product_title|product_category|star_rating|helpful_votes|total_votes|vine|verified_purchase|     review_headline|         review_body|review_date|\n",
            "+-----------+-----------+--------------+----------+--------------+--------------------+----------------+-----------+-------------+-----------+----+-----------------+--------------------+--------------------+-----------+\n",
            "|         US|   15785389|R2UM5QMHBHC90Q|B00H5U9ZD6|     115362950|WallPeg 12 sq ft ...|           Tools|          5|            0|          0|   N|                Y|Great organizer, ...|Very nice. Will o...| 2015-08-31|\n",
            "|         US|   47910848|  RF0D1LEIF6L7|B001TJGCS0|     570955425|Nite Ize Nite Daw...|           Tools|          4|            0|          0|   N|                Y|Like it, but the ...|Like it, but the ...| 2015-08-31|\n",
            "|         US|   36328996|  RM6YKIWQVNSY|B000NIK8JW|     128843593|Stanley 84-058 4 ...|           Tools|          1|            6|          6|   N|                Y|        poor quality|We were excited t...| 2015-08-31|\n",
            "|         US|   51785809|R1RL3L68ASPS36|B008ZYRGUA|     407828107|Powerextra 14.4V ...|           Tools|          4|            0|          0|   N|                Y|          Four Stars|Quick delivery. P...| 2015-08-31|\n",
            "|         US|   40757491|R1U4XFBFAG34CY|B00K5CA0GC|     490746675|Waterproof Invisi...|           Tools|          5|            0|          0|   N|                Y|          Five Stars|Quality waterproo...| 2015-08-31|\n",
            "|         US|   35544833|R3KFIK8P0I91PL|B00AIJAA94|     148352067|Crime Scene Do No...|           Tools|          5|            0|          0|   N|                Y|Excellent Decorat...|Ordered for my hu...| 2015-08-31|\n",
            "|         US|   16474909| RENOAY76PPK1O|B00JKEI6K8|     331801084|Aweek® 2 Pcs Bicy...|           Tools|          5|            0|          0|   N|                Y|          Five Stars|GREAT SELLER PROD...| 2015-08-31|\n",
            "|         US|   22601598| RINV884I0NL5V|B00AGCHVS6|     471514859|Ryobi P102 Genuin...|           Tools|          1|            0|          0|   N|                Y|Worked great for ...|My battery has di...| 2015-08-31|\n",
            "|         US|   16129808| R5KJH6CXZH2PX|B002S0O7U4|     162253576|Wiha 66995 6-Piec...|           Tools|          5|            0|          0|   N|                Y|       Great quality|Great product at ...| 2015-08-31|\n",
            "|         US|   24382335| RO69JF6QWD0W1|B0084YHXMW|      69530650|TOMTOP LED Submar...|           Tools|          5|            0|          0|   N|                Y|          Five Stars|           Excellent| 2015-08-31|\n",
            "|         US|   49796324|R3L9NQBH3FI55C|B00MLSS1SW|     916693555|Black & Decker BD...|           Tools|          4|            1|          1|   N|                Y|Really worked great!|This little sande...| 2015-08-31|\n",
            "|         US|   33289687| R4YH95YPHVU0C|B00D4WLS2A|      39333316|Crain 126 Staple ...|           Tools|          5|            0|          0|   N|                Y|         LOVE IT!!!!|This is the most ...| 2015-08-31|\n",
            "|         US|   10916386|R10M1WWDDQBGG2|B00JGCDV5Y|     550596607|Diamond Semi Roun...|           Tools|          2|            0|          0|   N|                Y|I needed to cut s...|I needed to cut s...| 2015-08-31|\n",
            "|         US|   34071500| RV3KWQBTNIO62|B00N0PS3YM|     735538025|It Mall 9 LED 375...|           Tools|          5|            1|          1|   N|                Y|   Works pretty well|Lights up small d...| 2015-08-31|\n",
            "|         US|   50594486|R1M7YUNLZI0G9F|B0000DD4KV|     506501960|IRWIN Tools Metri...|           Tools|          5|            1|          1|   N|                Y|          Five Stars|Great product for...| 2015-08-31|\n",
            "|         US|   21945887|R2MTL2D4E4HEF4|B0009H5FB8|     268586246|743022-A Backing ...|           Tools|          5|            0|          0|   N|                Y|          Five Stars|Many thanks for t...| 2015-08-31|\n",
            "|         US|   47749608| RXAHWIC1584UQ|B00NKSMPZW|     824618679|ClearArmor 141001...|           Tools|          5|           20|         23|   N|                Y|          Five Stars|geart product :) ...| 2015-08-31|\n",
            "|         US|   48880662| RMOIQFERVQDWS|B00RBAB92K|     156791442|KKmoon 9cm Mini A...|           Tools|          5|            0|          0|   N|                Y|          Five Stars|           very good| 2015-08-31|\n",
            "|         US|    4660265| R710G45MKODY9|B00QGBNZVI|     962324810|Refun E6 High Pow...|           Tools|          2|            1|          1|   N|                Y|           Two Stars|Scratches on lenses.| 2015-08-31|\n",
            "|         US|   18397238|R23ZIUGUM7TBMY|B00XXU3CDG|     543062309|Dr.meter S20 Mois...|           Tools|          1|            0|          1|   N|                Y|Don't waste your ...|It's a piece of $...| 2015-08-31|\n",
            "+-----------+-----------+--------------+----------+--------------+--------------------+----------------+-----------+-------------+-----------+----+-----------------+--------------------+--------------------+-----------+\n",
            "only showing top 20 rows\n",
            "\n"
          ]
        }
      ]
    },
    {
      "cell_type": "code",
      "source": [
        "# sql function to use col\n",
        "from pyspark.sql.functions import col\n",
        "votes_over_20_df = dropna_df.filter(col(\"total_votes\") >= 20)\n",
        "votes_over_20_df.show()"
      ],
      "metadata": {
        "colab": {
          "base_uri": "https://localhost:8080/"
        },
        "id": "8n3mqOreoZ7Y",
        "outputId": "c0883218-af15-442e-b159-a11cf584be15"
      },
      "execution_count": 6,
      "outputs": [
        {
          "output_type": "stream",
          "name": "stdout",
          "text": [
            "+-----------+-----------+--------------+----------+--------------+--------------------+----------------+-----------+-------------+-----------+----+-----------------+--------------------+--------------------+-----------+\n",
            "|marketplace|customer_id|     review_id|product_id|product_parent|       product_title|product_category|star_rating|helpful_votes|total_votes|vine|verified_purchase|     review_headline|         review_body|review_date|\n",
            "+-----------+-----------+--------------+----------+--------------+--------------------+----------------+-----------+-------------+-----------+----+-----------------+--------------------+--------------------+-----------+\n",
            "|         US|   47749608| RXAHWIC1584UQ|B00NKSMPZW|     824618679|ClearArmor 141001...|           Tools|          5|           20|         23|   N|                Y|          Five Stars|geart product :) ...| 2015-08-31|\n",
            "|         US|   53082915| RSBELAIC899DO|B00LPFIPPQ|     848632692|WEN 6510 Oscillating|           Tools|          5|           46|         51|   N|                Y|Professional sand...|I don't have a lo...| 2015-08-31|\n",
            "|         US|   37584068|R2HCC4CJ59D225|B00QS9R9W4|     883778437|Skilled Crafter L...|           Tools|          4|           43|         43|   N|                Y|Happy with my pur...|Good hole puncher...| 2015-08-31|\n",
            "|         US|   11254201|R39BVCCVPRV6F5|B00NH3E95Y|     157093972|Rotorazer Multi-p...|           Tools|          5|           10|         22|   N|                Y|          Five Stars|           Fantastic| 2015-08-31|\n",
            "|         US|   36879864| RL9VF9WXHEHKR|B00F5VUS1U|     133481526|Big Horn 14350 Do...|           Tools|          5|           35|         36|   N|                Y|        Game changer|If you're looking...| 2015-08-31|\n",
            "|         US|   25655711|R1ZINLWUOLTZ46|B007NVSTCK|     543991951|DEWALT DCS380B 20...|           Tools|          1|           39|         45|   N|                N|     Dont buy dewalt|If I could, I'd g...| 2015-08-31|\n",
            "|         US|   27471798|R1CQKM1K1CHOHS|B000H12DQ6|     206229938|Bosch RA1181 Benc...|           Tools|          1|           21|         22|   N|                N|Who are these idi...|I downloaded the ...| 2015-08-31|\n",
            "|         US|   47386643|R1ZG19X1NOLCRF|B00Z804LAW|     803357065|Gino Development ...|           Tools|          5|            5|         21|   N|                Y|          Five Stars|          I like it.| 2015-08-31|\n",
            "|         US|   19888586|R1YOX5Z4GF3ZSW|B009O94W3E|     398511332|DEWALT DW088K Sel...|           Tools|          1|            1|         22|   N|                Y|            One Star|     Very dirty item| 2015-08-31|\n",
            "|         US|   16581575| R2DHAM7J1KMWN|B00XUF5D7M|     223493368|Refun SK98 900 Hi...|           Tools|          5|           23|         24|   N|                N|Excellent small f...|-Seems to be just...| 2015-08-30|\n",
            "|         US|   43989484|R2KOLBXPW57WC3|B00RCYX504|     273166219|TEKTON Socket Set...|           Tools|          1|            4|         38|   N|                N|      Made in Taiwan|I was looking to ...| 2015-08-30|\n",
            "|         US|   33677339|R26EZ2INBETPU2|B00NH3E95Y|     157093972|Rotorazer Multi-p...|           Tools|          1|          103|        128|   N|                N|    Save your money.|I tried to think ...| 2015-08-30|\n",
            "|         US|    2445253|R265ZMDO2ISN1O|B00X52TZYM|     386918330|DEWALT DCS361M1 2...|           Tools|          5|           20|         21|   N|                Y|    Great little saw|I'm very happy wi...| 2015-08-30|\n",
            "|         US|   51156831|R3NZ7JTOCPYE1S|B000WGHZYG|     380976269|10 Pack 4-1/2\" Au...|           Tools|          4|           32|         33|   N|                Y|Better than expec...|Respectable quali...| 2015-08-30|\n",
            "|         US|   50618249|R3HQQ725T45NCH|B00VAQCM0Y|     709322087|Nu Calgon 4050-08...|           Tools|          3|            9|         21|   N|                Y|         Sans Middle|Save yourself the...| 2015-08-29|\n",
            "|         US|   18881762|R15JJ5AGVSB71T|B00S9ZIEEW|     767610957|Ernst Manufacturi...|           Tools|          5|           33|         33|   N|                Y|           Organized|I bought an 87 pi...| 2015-08-29|\n",
            "|         US|   21857034|R28WDBNT2XRACG|B005IGI350|     400241559|POWERTEC PL1251 1...|           Tools|          1|           19|         24|   N|                Y|    Too Cheap for Me|Didn't expect muc...| 2015-08-29|\n",
            "|         US|   34132219|R3HP224QDFQ2SN|B00QS9R9W4|     883778437|Skilled Crafter L...|           Tools|          5|           21|         22|   N|                Y|Amazing Tool, Out...|This leather hole...| 2015-08-29|\n",
            "|         US|   43737304| RTURVI4KNPMG1|B00U0ILXGC|      27558967|Gerber Fixed Blad...|           Tools|          5|          146|        154|   N|                Y|10 out of 10 for ...|Gerber StrongArm....| 2015-08-29|\n",
            "|         US|      78935| RH2BXZ337F38J|B001I9UNWC|     431672706|GRR-RIPPER 3D Pus...|           Tools|          5|           62|         66|   N|                Y|The best push-blo...|With any tool, sa...| 2015-08-29|\n",
            "+-----------+-----------+--------------+----------+--------------+--------------------+----------------+-----------+-------------+-----------+----+-----------------+--------------------+--------------------+-----------+\n",
            "only showing top 20 rows\n",
            "\n"
          ]
        }
      ]
    },
    {
      "cell_type": "code",
      "source": [
        "helpful_over_total_gt_50_df = votes_over_20_df.filter(col(\"helpful_votes\")/col(\"total_votes\") >= 0.50)\n",
        "helpful_over_total_gt_50_df.show()"
      ],
      "metadata": {
        "colab": {
          "base_uri": "https://localhost:8080/"
        },
        "id": "k25SWD6ZpCF4",
        "outputId": "cf0e6a2a-ad02-4d55-ed57-ba387cde7be8"
      },
      "execution_count": 8,
      "outputs": [
        {
          "output_type": "stream",
          "name": "stdout",
          "text": [
            "+-----------+-----------+--------------+----------+--------------+--------------------+----------------+-----------+-------------+-----------+----+-----------------+--------------------+--------------------+-----------+\n",
            "|marketplace|customer_id|     review_id|product_id|product_parent|       product_title|product_category|star_rating|helpful_votes|total_votes|vine|verified_purchase|     review_headline|         review_body|review_date|\n",
            "+-----------+-----------+--------------+----------+--------------+--------------------+----------------+-----------+-------------+-----------+----+-----------------+--------------------+--------------------+-----------+\n",
            "|         US|   47749608| RXAHWIC1584UQ|B00NKSMPZW|     824618679|ClearArmor 141001...|           Tools|          5|           20|         23|   N|                Y|          Five Stars|geart product :) ...| 2015-08-31|\n",
            "|         US|   53082915| RSBELAIC899DO|B00LPFIPPQ|     848632692|WEN 6510 Oscillating|           Tools|          5|           46|         51|   N|                Y|Professional sand...|I don't have a lo...| 2015-08-31|\n",
            "|         US|   37584068|R2HCC4CJ59D225|B00QS9R9W4|     883778437|Skilled Crafter L...|           Tools|          4|           43|         43|   N|                Y|Happy with my pur...|Good hole puncher...| 2015-08-31|\n",
            "|         US|   36879864| RL9VF9WXHEHKR|B00F5VUS1U|     133481526|Big Horn 14350 Do...|           Tools|          5|           35|         36|   N|                Y|        Game changer|If you're looking...| 2015-08-31|\n",
            "|         US|   25655711|R1ZINLWUOLTZ46|B007NVSTCK|     543991951|DEWALT DCS380B 20...|           Tools|          1|           39|         45|   N|                N|     Dont buy dewalt|If I could, I'd g...| 2015-08-31|\n",
            "|         US|   27471798|R1CQKM1K1CHOHS|B000H12DQ6|     206229938|Bosch RA1181 Benc...|           Tools|          1|           21|         22|   N|                N|Who are these idi...|I downloaded the ...| 2015-08-31|\n",
            "|         US|   16581575| R2DHAM7J1KMWN|B00XUF5D7M|     223493368|Refun SK98 900 Hi...|           Tools|          5|           23|         24|   N|                N|Excellent small f...|-Seems to be just...| 2015-08-30|\n",
            "|         US|   33677339|R26EZ2INBETPU2|B00NH3E95Y|     157093972|Rotorazer Multi-p...|           Tools|          1|          103|        128|   N|                N|    Save your money.|I tried to think ...| 2015-08-30|\n",
            "|         US|    2445253|R265ZMDO2ISN1O|B00X52TZYM|     386918330|DEWALT DCS361M1 2...|           Tools|          5|           20|         21|   N|                Y|    Great little saw|I'm very happy wi...| 2015-08-30|\n",
            "|         US|   51156831|R3NZ7JTOCPYE1S|B000WGHZYG|     380976269|10 Pack 4-1/2\" Au...|           Tools|          4|           32|         33|   N|                Y|Better than expec...|Respectable quali...| 2015-08-30|\n",
            "|         US|   18881762|R15JJ5AGVSB71T|B00S9ZIEEW|     767610957|Ernst Manufacturi...|           Tools|          5|           33|         33|   N|                Y|           Organized|I bought an 87 pi...| 2015-08-29|\n",
            "|         US|   21857034|R28WDBNT2XRACG|B005IGI350|     400241559|POWERTEC PL1251 1...|           Tools|          1|           19|         24|   N|                Y|    Too Cheap for Me|Didn't expect muc...| 2015-08-29|\n",
            "|         US|   34132219|R3HP224QDFQ2SN|B00QS9R9W4|     883778437|Skilled Crafter L...|           Tools|          5|           21|         22|   N|                Y|Amazing Tool, Out...|This leather hole...| 2015-08-29|\n",
            "|         US|   43737304| RTURVI4KNPMG1|B00U0ILXGC|      27558967|Gerber Fixed Blad...|           Tools|          5|          146|        154|   N|                Y|10 out of 10 for ...|Gerber StrongArm....| 2015-08-29|\n",
            "|         US|      78935| RH2BXZ337F38J|B001I9UNWC|     431672706|GRR-RIPPER 3D Pus...|           Tools|          5|           62|         66|   N|                Y|The best push-blo...|With any tool, sa...| 2015-08-29|\n",
            "|         US|   47244625|R3G8L2NRMZZHPI|B00ZZGJ852|      61900073|Padlock Picks Doo...|           Tools|          4|           23|         23|   N|                Y|Contains at least...|Generally impress...| 2015-08-29|\n",
            "|         US|   47942565|R21Q3I2ZEDSMZK|B00QZLV03O|     191744402|Nanch Precision S...|           Tools|          5|           80|         84|   N|                Y|Very well designe...|I must admit I wa...| 2015-08-29|\n",
            "|         US|    1518688|R16MXXKY0MRKZW|B00J3GRH9Y|     709251732|SKYRAY 2017 Tacti...|           Tools|          1|           48|         52|   N|                Y|DON'T make my mis...|DON'T make my mis...| 2015-08-29|\n",
            "|         US|   44128413|R121P6RES3Z7WC|B003TU0XG4|     545831295|Dremel 7300-PT 4....|           Tools|          1|          145|        162|   N|                Y|Pieces don't fit ...|So I got this out...| 2015-08-28|\n",
            "|         US|   19691221|R1ILUNGUCRZGF3|B0083R3DHO|     409382267|Azar 326043 12-In...|           Tools|          5|           21|         21|   N|                Y|Great quality pro...|Great quality pro...| 2015-08-28|\n",
            "+-----------+-----------+--------------+----------+--------------+--------------------+----------------+-----------+-------------+-----------+----+-----------------+--------------------+--------------------+-----------+\n",
            "only showing top 20 rows\n",
            "\n"
          ]
        }
      ]
    },
    {
      "cell_type": "code",
      "source": [
        "vine_table_df = helpful_over_total_gt_50_df.filter(col(\"vine\")==\"Y\")\n",
        "vine_table_df.show()"
      ],
      "metadata": {
        "colab": {
          "base_uri": "https://localhost:8080/"
        },
        "id": "la0Zi3IDrHTm",
        "outputId": "c3459b8b-47a6-473b-9be5-d82c92a59a81"
      },
      "execution_count": 9,
      "outputs": [
        {
          "output_type": "stream",
          "name": "stdout",
          "text": [
            "+-----------+-----------+--------------+----------+--------------+--------------------+----------------+-----------+-------------+-----------+----+-----------------+--------------------+--------------------+-----------+\n",
            "|marketplace|customer_id|     review_id|product_id|product_parent|       product_title|product_category|star_rating|helpful_votes|total_votes|vine|verified_purchase|     review_headline|         review_body|review_date|\n",
            "+-----------+-----------+--------------+----------+--------------+--------------------+----------------+-----------+-------------+-----------+----+-----------------+--------------------+--------------------+-----------+\n",
            "|         US|   21084288|R3QIQRG107AP19|B00OJ72LHK|     369815253|BLACK+DECKER BDEJ...|           Tools|          5|           38|         41|   Y|                N|Essential home ow...|We are not pros. ...| 2015-08-27|\n",
            "|         US|   52512530|R1ZNBHGCYE8VN1|B00OJ72LHK|     369815253|BLACK+DECKER BDEJ...|           Tools|          5|          175|        181|   Y|                N|Black and Decker ...|My commercial Ski...| 2015-08-25|\n",
            "|         US|   18255047|R1BNZJ9IKGRBC2|B00OJ72LHK|     369815253|BLACK+DECKER BDEJ...|           Tools|          4|           63|         70|   Y|                N|        A Good Value|I have gotten to ...| 2015-08-19|\n",
            "|         US|   35334320|R2IXTN4PBRHBO2|B00T3QBWAE|     854337170|SOG Survival Hawk...|           Tools|          5|           19|         24|   Y|                N|Absolutely Fantas...|This is an awesom...| 2015-07-20|\n",
            "|         US|   50458463|R32AOW3L09SYMQ|B00T3QBYIO|     614295243|SOG Specialty Kni...|           Tools|          5|           29|         34|   Y|                N|  Perfectly Portable|While not a full-...| 2015-07-18|\n",
            "|         US|   42689422|R34Z4VTLF7PC6X|B00T9RANUC|     724678300|FLIR Compact Ther...|           Tools|          4|           33|         36|   Y|                N|Great FLIR System...|Very easy to use ...| 2015-07-17|\n",
            "|         US|   43791073|R25403NE9JCRZZ|B00TT9X4L0|     175604994|SOG SwitchPlier 2...|           Tools|          2|           36|         40|   Y|                N|I was excited to ...|I carry a pocket ...| 2015-07-15|\n",
            "|         US|   20389093|R2QT2G3YRGC0PS|B00TT9X4L0|     175604994|SOG SwitchPlier 2...|           Tools|          5|           18|         20|   Y|                N|Love these - grea...|[[VIDEOID:91b7236...| 2015-07-06|\n",
            "|         US|   40538153| RDUP15OURNUSA|B00T4N5Y32|     759292408|SOG Specialty Kni...|           Tools|          5|           22|         23|   Y|                N|Great knife for e...|This is my Husban...| 2015-06-24|\n",
            "|         US|   52205658|R1EI4NZTG7G14F|B00TXWJ7KA|     488279439|SOG Throwing Kniv...|           Tools|          5|           17|         23|   Y|                N|Great Gift for Ex...|These throwing kn...| 2015-06-21|\n",
            "|         US|   23094354|R2G0YB0MC67NLG|B00TXWJ7KA|     488279439|SOG Throwing Kniv...|           Tools|          5|           29|         38|   Y|                N|Absolutely Fantas...|Let's start off w...| 2015-06-20|\n",
            "|         US|   51929180| RGA1PHAE93JR2|B00SBGCXFA|     270304375|Bora 542006 WTX S...|           Tools|          1|           16|         21|   Y|                N|Plastic … Flexes ...|When you’re cutti...| 2015-06-13|\n",
            "|         US|   52532594|R1QS5MKSKOGG0U|B00RCYX58G|     166815054|TEKTON 1/4-Inch a...|           Tools|          5|           15|         20|   Y|                N|        Complete Set|This is a very co...| 2015-06-09|\n",
            "|         US|   52554722|R3MVW880K2V5BK|B00SBGCXFA|     270304375|Bora 542006 WTX S...|           Tools|          3|           37|         46|   Y|                N|A little less tha...|[[VIDEOID:d21361a...| 2015-06-04|\n",
            "|         US|   30092914|R11JKXPSMHSZY1|B00UHNM60C|     769154216|Gallon 150 PSI Oi...|           Tools|          4|           21|         28|   Y|                N|This is a handy k...|This is a great s...| 2015-05-31|\n",
            "|         US|   53006768|  RSPSTXGY3OD8|B00VJYWRKW|     403339751|TEKTON 28301 Ever...|           Tools|          5|           29|         33|   Y|                N|Good Quality Kit ...|Tech Rescue<br />...| 2015-05-31|\n",
            "|         US|   52554722| RQO0NNMNWRLB4|B00UHNM1TI|     769154216|Gallon 150 PSI Oi...|           Tools|          3|           47|         54|   Y|                N|               RTFM?|[[VIDEOID:c3a0429...| 2015-05-26|\n",
            "|         US|   35360512|R3H5BSP5KCFHBG|B00OKGAURI|     676843495|SKILSAW SPT67WL-0...|           Tools|          4|           19|         21|   Y|                N|Read on to get an...|I am far from bei...| 2015-05-22|\n",
            "|         US|   51771760|R2AIJIWME1WDKN|B00UHNM1R0|     769154216|Gallon 150 PSI Oi...|           Tools|          5|           16|         24|   Y|                N|Great upgrade for...|[[VIDEOID:41c52b1...| 2015-05-16|\n",
            "|         US|   49956844| R585MGH89JZZ5|B00VI7WBWE|     644331624|Bosch GLM 35 Lase...|           Tools|          5|           27|         34|   Y|                N|Love Using the GL...|I recently had so...| 2015-05-10|\n",
            "+-----------+-----------+--------------+----------+--------------+--------------------+----------------+-----------+-------------+-----------+----+-----------------+--------------------+--------------------+-----------+\n",
            "only showing top 20 rows\n",
            "\n"
          ]
        }
      ]
    },
    {
      "cell_type": "code",
      "source": [
        "non_vine_table_df = helpful_over_total_gt_50_df.filter(col(\"vine\")==\"N\")\n",
        "non_vine_table_df.show()"
      ],
      "metadata": {
        "colab": {
          "base_uri": "https://localhost:8080/"
        },
        "id": "oMxvt65NrebN",
        "outputId": "78e5bb08-a46b-449b-d565-5f7e6eb7c0e1"
      },
      "execution_count": 10,
      "outputs": [
        {
          "output_type": "stream",
          "name": "stdout",
          "text": [
            "+-----------+-----------+--------------+----------+--------------+--------------------+----------------+-----------+-------------+-----------+----+-----------------+--------------------+--------------------+-----------+\n",
            "|marketplace|customer_id|     review_id|product_id|product_parent|       product_title|product_category|star_rating|helpful_votes|total_votes|vine|verified_purchase|     review_headline|         review_body|review_date|\n",
            "+-----------+-----------+--------------+----------+--------------+--------------------+----------------+-----------+-------------+-----------+----+-----------------+--------------------+--------------------+-----------+\n",
            "|         US|   47749608| RXAHWIC1584UQ|B00NKSMPZW|     824618679|ClearArmor 141001...|           Tools|          5|           20|         23|   N|                Y|          Five Stars|geart product :) ...| 2015-08-31|\n",
            "|         US|   53082915| RSBELAIC899DO|B00LPFIPPQ|     848632692|WEN 6510 Oscillating|           Tools|          5|           46|         51|   N|                Y|Professional sand...|I don't have a lo...| 2015-08-31|\n",
            "|         US|   37584068|R2HCC4CJ59D225|B00QS9R9W4|     883778437|Skilled Crafter L...|           Tools|          4|           43|         43|   N|                Y|Happy with my pur...|Good hole puncher...| 2015-08-31|\n",
            "|         US|   36879864| RL9VF9WXHEHKR|B00F5VUS1U|     133481526|Big Horn 14350 Do...|           Tools|          5|           35|         36|   N|                Y|        Game changer|If you're looking...| 2015-08-31|\n",
            "|         US|   25655711|R1ZINLWUOLTZ46|B007NVSTCK|     543991951|DEWALT DCS380B 20...|           Tools|          1|           39|         45|   N|                N|     Dont buy dewalt|If I could, I'd g...| 2015-08-31|\n",
            "|         US|   27471798|R1CQKM1K1CHOHS|B000H12DQ6|     206229938|Bosch RA1181 Benc...|           Tools|          1|           21|         22|   N|                N|Who are these idi...|I downloaded the ...| 2015-08-31|\n",
            "|         US|   16581575| R2DHAM7J1KMWN|B00XUF5D7M|     223493368|Refun SK98 900 Hi...|           Tools|          5|           23|         24|   N|                N|Excellent small f...|-Seems to be just...| 2015-08-30|\n",
            "|         US|   33677339|R26EZ2INBETPU2|B00NH3E95Y|     157093972|Rotorazer Multi-p...|           Tools|          1|          103|        128|   N|                N|    Save your money.|I tried to think ...| 2015-08-30|\n",
            "|         US|    2445253|R265ZMDO2ISN1O|B00X52TZYM|     386918330|DEWALT DCS361M1 2...|           Tools|          5|           20|         21|   N|                Y|    Great little saw|I'm very happy wi...| 2015-08-30|\n",
            "|         US|   51156831|R3NZ7JTOCPYE1S|B000WGHZYG|     380976269|10 Pack 4-1/2\" Au...|           Tools|          4|           32|         33|   N|                Y|Better than expec...|Respectable quali...| 2015-08-30|\n",
            "|         US|   18881762|R15JJ5AGVSB71T|B00S9ZIEEW|     767610957|Ernst Manufacturi...|           Tools|          5|           33|         33|   N|                Y|           Organized|I bought an 87 pi...| 2015-08-29|\n",
            "|         US|   21857034|R28WDBNT2XRACG|B005IGI350|     400241559|POWERTEC PL1251 1...|           Tools|          1|           19|         24|   N|                Y|    Too Cheap for Me|Didn't expect muc...| 2015-08-29|\n",
            "|         US|   34132219|R3HP224QDFQ2SN|B00QS9R9W4|     883778437|Skilled Crafter L...|           Tools|          5|           21|         22|   N|                Y|Amazing Tool, Out...|This leather hole...| 2015-08-29|\n",
            "|         US|   43737304| RTURVI4KNPMG1|B00U0ILXGC|      27558967|Gerber Fixed Blad...|           Tools|          5|          146|        154|   N|                Y|10 out of 10 for ...|Gerber StrongArm....| 2015-08-29|\n",
            "|         US|      78935| RH2BXZ337F38J|B001I9UNWC|     431672706|GRR-RIPPER 3D Pus...|           Tools|          5|           62|         66|   N|                Y|The best push-blo...|With any tool, sa...| 2015-08-29|\n",
            "|         US|   47244625|R3G8L2NRMZZHPI|B00ZZGJ852|      61900073|Padlock Picks Doo...|           Tools|          4|           23|         23|   N|                Y|Contains at least...|Generally impress...| 2015-08-29|\n",
            "|         US|   47942565|R21Q3I2ZEDSMZK|B00QZLV03O|     191744402|Nanch Precision S...|           Tools|          5|           80|         84|   N|                Y|Very well designe...|I must admit I wa...| 2015-08-29|\n",
            "|         US|    1518688|R16MXXKY0MRKZW|B00J3GRH9Y|     709251732|SKYRAY 2017 Tacti...|           Tools|          1|           48|         52|   N|                Y|DON'T make my mis...|DON'T make my mis...| 2015-08-29|\n",
            "|         US|   44128413|R121P6RES3Z7WC|B003TU0XG4|     545831295|Dremel 7300-PT 4....|           Tools|          1|          145|        162|   N|                Y|Pieces don't fit ...|So I got this out...| 2015-08-28|\n",
            "|         US|   19691221|R1ILUNGUCRZGF3|B0083R3DHO|     409382267|Azar 326043 12-In...|           Tools|          5|           21|         21|   N|                Y|Great quality pro...|Great quality pro...| 2015-08-28|\n",
            "+-----------+-----------+--------------+----------+--------------+--------------------+----------------+-----------+-------------+-----------+----+-----------------+--------------------+--------------------+-----------+\n",
            "only showing top 20 rows\n",
            "\n"
          ]
        }
      ]
    },
    {
      "cell_type": "code",
      "source": [
        "number_of_reviews = helpful_over_total_gt_50_df.count()\n",
        "number_of_reviews"
      ],
      "metadata": {
        "colab": {
          "base_uri": "https://localhost:8080/"
        },
        "id": "Qwe6ItjIrs49",
        "outputId": "df4f5a1e-7157-448d-9354-545a2c722619"
      },
      "execution_count": 11,
      "outputs": [
        {
          "output_type": "execute_result",
          "data": {
            "text/plain": [
              "31827"
            ]
          },
          "metadata": {},
          "execution_count": 11
        }
      ]
    },
    {
      "cell_type": "code",
      "source": [
        "num_5_star_reviews = helpful_over_total_gt_50_df.filter(col(\"star_rating\") == \"5\").count()\n",
        "num_5_star_reviews"
      ],
      "metadata": {
        "colab": {
          "base_uri": "https://localhost:8080/"
        },
        "id": "Cx6Bkf-cu6sB",
        "outputId": "77056027-a220-41f4-c60e-085003f3dc3b"
      },
      "execution_count": 12,
      "outputs": [
        {
          "output_type": "execute_result",
          "data": {
            "text/plain": [
              "14777"
            ]
          },
          "metadata": {},
          "execution_count": 12
        }
      ]
    },
    {
      "cell_type": "code",
      "source": [
        "percentage_5_star_for_paid = vine_table_df.filter(col(\"star_rating\") == \"5\").count()/number_of_reviews\n",
        "print(f\"The number of 5-star reviews of Paid vine users is: {percentage_5_star_for_paid:.2%}.\")"
      ],
      "metadata": {
        "colab": {
          "base_uri": "https://localhost:8080/"
        },
        "id": "xQAn9Df-vtpy",
        "outputId": "7e103678-4b37-4ccd-af1f-f07f38e6ebde"
      },
      "execution_count": 16,
      "outputs": [
        {
          "output_type": "stream",
          "name": "stdout",
          "text": [
            "The number of 5-star reviews of Paid vine users is: 0.51%.\n"
          ]
        }
      ]
    },
    {
      "cell_type": "code",
      "source": [
        "percentage_5_star_for_nonpaid = non_vine_table_df.filter(col(\"star_rating\") == \"5\").count()/number_of_reviews\n",
        "print(f\"The number of 5-star reviews of Paid vine users is: {percentage_5_star_for_nonpaid:.2%}.\")"
      ],
      "metadata": {
        "colab": {
          "base_uri": "https://localhost:8080/"
        },
        "id": "4X781IZOyvj4",
        "outputId": "09ca8a5d-7e80-4845-e646-5f6b1e1cc951"
      },
      "execution_count": 17,
      "outputs": [
        {
          "output_type": "stream",
          "name": "stdout",
          "text": [
            "The number of 5-star reviews of Paid vine users is: 45.92%.\n"
          ]
        }
      ]
    }
  ]
}